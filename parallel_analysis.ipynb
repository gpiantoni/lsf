{
 "metadata": {
  "name": "",
  "signature": "sha256:5b2800b6b4fa83cd3c69231bf89b5f5eb0fb3ce71c92f63c597c4daa256cd054"
 },
 "nbformat": 3,
 "nbformat_minor": 0,
 "worksheets": [
  {
   "cells": [
    {
     "cell_type": "heading",
     "level": 1,
     "metadata": {},
     "source": [
      "USE PARALLEL COMPUTATIONS"
     ]
    },
    {
     "cell_type": "heading",
     "level": 3,
     "metadata": {},
     "source": [
      "Values to compute"
     ]
    },
    {
     "cell_type": "code",
     "collapsed": false,
     "input": [
      "one_val = 10\n",
      "n_rpt = 20\n",
      "\n",
      "def do_something(dummy):\n",
      "    return one_val * dummy"
     ],
     "language": "python",
     "metadata": {},
     "outputs": [],
     "prompt_number": 1
    },
    {
     "cell_type": "heading",
     "level": 3,
     "metadata": {},
     "source": [
      "MAP"
     ]
    },
    {
     "cell_type": "code",
     "collapsed": false,
     "input": [
      "output = map(do_something, range(n_rpt))\n",
      "print(list(output))"
     ],
     "language": "python",
     "metadata": {},
     "outputs": [
      {
       "output_type": "stream",
       "stream": "stdout",
       "text": [
        "[0, 10, 20, 30, 40, 50, 60, 70, 80, 90, 100, 110, 120, 130, 140, 150, 160, 170, 180, 190]\n"
       ]
      }
     ],
     "prompt_number": 2
    },
    {
     "cell_type": "heading",
     "level": 3,
     "metadata": {},
     "source": [
      "MULTIPROCESSING"
     ]
    },
    {
     "cell_type": "code",
     "collapsed": false,
     "input": [
      "from multiprocessing import Pool\n",
      "p = Pool(12)\n",
      "print(p.map(do_something, range(n_rpt)))"
     ],
     "language": "python",
     "metadata": {},
     "outputs": [
      {
       "output_type": "stream",
       "stream": "stdout",
       "text": [
        "[0, 10, 20, 30, 40, 50, 60, 70, 80, 90, 100, 110, 120, 130, 140, 150, 160, 170, 180, 190]\n"
       ]
      }
     ],
     "prompt_number": 3
    },
    {
     "cell_type": "heading",
     "level": 3,
     "metadata": {},
     "source": [
      "JOBLIB"
     ]
    },
    {
     "cell_type": "code",
     "collapsed": false,
     "input": [
      "from joblib import Parallel, delayed\n",
      "\n",
      "output = Parallel(n_jobs=12, verbose=20)(delayed(do_something)(i) for i in range(n_rpt))\n",
      "print(output)"
     ],
     "language": "python",
     "metadata": {},
     "outputs": [
      {
       "output_type": "stream",
       "stream": "stdout",
       "text": [
        "[0, 10, 20, 30, 40, 50, 60, 70, 80, 90, 100, 110, 120, 130, 140, 150, 160, 170, 180, 190]\n"
       ]
      },
      {
       "output_type": "stream",
       "stream": "stderr",
       "text": [
        "[Parallel(n_jobs=12)]: Done   1 out of  20 | elapsed:    0.0s remaining:    0.0s\n",
        "[Parallel(n_jobs=12)]: Done   2 out of  20 | elapsed:    0.0s remaining:    0.0s\n",
        "[Parallel(n_jobs=12)]: Done   4 out of  20 | elapsed:    0.0s remaining:    0.0s\n",
        "[Parallel(n_jobs=12)]: Done   6 out of  20 | elapsed:    0.0s remaining:    0.0s\n",
        "[Parallel(n_jobs=12)]: Done   8 out of  20 | elapsed:    0.0s remaining:    0.0s\n",
        "[Parallel(n_jobs=12)]: Done  10 out of  20 | elapsed:    0.0s remaining:    0.0s\n",
        "[Parallel(n_jobs=12)]: Done  12 out of  20 | elapsed:    0.0s remaining:    0.0s\n",
        "[Parallel(n_jobs=12)]: Done  14 out of  20 | elapsed:    0.0s remaining:    0.0s\n",
        "[Parallel(n_jobs=12)]: Done  16 out of  20 | elapsed:    0.0s remaining:    0.0s\n",
        "[Parallel(n_jobs=12)]: Done  18 out of  20 | elapsed:    0.0s remaining:    0.0s\n",
        "[Parallel(n_jobs=12)]: Done  20 out of  20 | elapsed:    0.0s finished\n"
       ]
      }
     ],
     "prompt_number": 4
    },
    {
     "cell_type": "heading",
     "level": 3,
     "metadata": {},
     "source": [
      "IPYTHON PARALLEL"
     ]
    },
    {
     "cell_type": "markdown",
     "metadata": {},
     "source": [
      "In ipython 2.0, rememberto start the clusters in the main interface. If not, it will fail."
     ]
    },
    {
     "cell_type": "code",
     "collapsed": false,
     "input": [
      "from IPython.parallel import Client\n",
      "c = Client()\n",
      "\n",
      "v = c[:]\n",
      "v.push({'one_val': one_val})\n",
      "\n",
      "a = v.map(do_something, range(n_rpt))\n",
      "print(list(a))"
     ],
     "language": "python",
     "metadata": {},
     "outputs": [
      {
       "output_type": "stream",
       "stream": "stdout",
       "text": [
        "[0, 10, 20, 30, 40, 50, 60, 70, 80, 90, 100, 110, 120, 130, 140, 150, 160, 170, 180, 190]\n"
       ]
      }
     ],
     "prompt_number": 5
    },
    {
     "cell_type": "heading",
     "level": 3,
     "metadata": {},
     "source": [
      "SUBMIT JOBS TO LSF"
     ]
    },
    {
     "cell_type": "code",
     "collapsed": false,
     "input": [
      "from lsf import map_lsf\n",
      "\n",
      "from logging import getLogger, INFO\n",
      "lg = getLogger('lsf')\n",
      "lg.setLevel(INFO)\n",
      "\n",
      "output = map_lsf(do_something, range(n_rpt), queue='vshort', variables={'one_val': one_val}, imports={'math': 'sqrt'})\n",
      "print(output)"
     ],
     "language": "python",
     "metadata": {},
     "outputs": []
    }
   ],
   "metadata": {}
  }
 ]
}