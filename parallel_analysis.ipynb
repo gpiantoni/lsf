{
 "metadata": {
  "name": "",
  "signature": "sha256:bd44e9bbccac2817681be6b950333b98426544ca874a42b4832fdef61a918fc5"
 },
 "nbformat": 3,
 "nbformat_minor": 0,
 "worksheets": [
  {
   "cells": [
    {
     "cell_type": "heading",
     "level": 1,
     "metadata": {},
     "source": [
      "USE PARALLEL COMPUTATIONS"
     ]
    },
    {
     "cell_type": "heading",
     "level": 3,
     "metadata": {},
     "source": [
      "Values to compute"
     ]
    },
    {
     "cell_type": "code",
     "collapsed": false,
     "input": [
      "one_val = 10\n",
      "\n",
      "def do_something(dummy):\n",
      "    return one_val * dummy"
     ],
     "language": "python",
     "metadata": {},
     "outputs": []
    },
    {
     "cell_type": "heading",
     "level": 3,
     "metadata": {},
     "source": [
      "SUBMIT JOBS TO LSF"
     ]
    },
    {
     "cell_type": "code",
     "collapsed": false,
     "input": [
      "from lsf import map_lsf\n",
      "\n",
      "from logging import getLogger, INFO\n",
      "lg = getLogger('lsf')\n",
      "lg.setLevel(INFO)\n",
      "\n",
      "output = map_lsf(do_something, range(10), queue='vshort', variables={'one_val': one_val}, imports={'math': 'sqrt'})\n",
      "\n",
      "output"
     ],
     "language": "python",
     "metadata": {},
     "outputs": []
    },
    {
     "cell_type": "code",
     "collapsed": false,
     "input": [
      "from joblib import Parallel, delayed\n",
      "from numpy.random import random\n",
      "from numpy.linalg import svd\n",
      "\n",
      "def test(a, b):\n",
      "    return svd(random((a, b+10)))\n",
      "\n",
      "n_rpt = 10\n",
      "dist = Parallel(n_jobs=12, verbose=20)(delayed(test)(1000, i ** 2) for i in range(n_rpt))\n",
      "dist"
     ],
     "language": "python",
     "metadata": {},
     "outputs": []
    },
    {
     "cell_type": "code",
     "collapsed": false,
     "input": [
      "from IPython.parallel import Client\n",
      "c = Client()\n",
      "v = c[:]"
     ],
     "language": "python",
     "metadata": {},
     "outputs": []
    },
    {
     "cell_type": "code",
     "collapsed": false,
     "input": [
      "v.push({'text': 6})"
     ],
     "language": "python",
     "metadata": {},
     "outputs": []
    },
    {
     "cell_type": "code",
     "collapsed": false,
     "input": [
      "def calc_something_1(a):\n",
      "    from numpy.random import random\n",
      "    from numpy.linalg import svd\n",
      "    return a * text\n",
      "\n",
      "a = v.map(calc_something_1, range(10))"
     ],
     "language": "python",
     "metadata": {},
     "outputs": []
    },
    {
     "cell_type": "code",
     "collapsed": false,
     "input": [
      "list(a)"
     ],
     "language": "python",
     "metadata": {},
     "outputs": []
    },
    {
     "cell_type": "code",
     "collapsed": false,
     "input": [],
     "language": "python",
     "metadata": {},
     "outputs": []
    },
    {
     "cell_type": "code",
     "collapsed": false,
     "input": [],
     "language": "python",
     "metadata": {},
     "outputs": []
    }
   ],
   "metadata": {}
  }
 ]
}