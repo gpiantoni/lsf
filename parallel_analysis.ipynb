{
 "metadata": {
  "name": "",
  "signature": "sha256:4e27b51a50e93c26f045439b335ba31204b854e5641cdf9e86600af4074162b7"
 },
 "nbformat": 3,
 "nbformat_minor": 0,
 "worksheets": [
  {
   "cells": [
    {
     "cell_type": "heading",
     "level": 1,
     "metadata": {},
     "source": [
      "USE PARALLEL COMPUTATIONS"
     ]
    },
    {
     "cell_type": "heading",
     "level": 3,
     "metadata": {},
     "source": [
      "Values to compute"
     ]
    },
    {
     "cell_type": "code",
     "collapsed": false,
     "input": [
      "one_val = 10\n",
      "n_rpt = 20\n",
      "\n",
      "def do_something(dummy):\n",
      "    return one_val * dummy"
     ],
     "language": "python",
     "metadata": {},
     "outputs": [],
     "prompt_number": 1
    },
    {
     "cell_type": "heading",
     "level": 3,
     "metadata": {},
     "source": [
      "MAP"
     ]
    },
    {
     "cell_type": "code",
     "collapsed": false,
     "input": [
      "output = map(do_something, range(n_rpt))\n",
      "print(list(output))"
     ],
     "language": "python",
     "metadata": {},
     "outputs": [
      {
       "output_type": "stream",
       "stream": "stdout",
       "text": [
        "[0, 10, 20, 30, 40, 50, 60, 70, 80, 90, 100, 110, 120, 130, 140, 150, 160, 170, 180, 190]\n"
       ]
      }
     ],
     "prompt_number": 2
    },
    {
     "cell_type": "heading",
     "level": 3,
     "metadata": {},
     "source": [
      "JOBLIB"
     ]
    },
    {
     "cell_type": "code",
     "collapsed": false,
     "input": [
      "from joblib import Parallel, delayed\n",
      "\n",
      "output = Parallel(n_jobs=12, verbose=20)(delayed(do_something)(i) for i in range(n_rpt))\n",
      "print(output)"
     ],
     "language": "python",
     "metadata": {},
     "outputs": [
      {
       "output_type": "stream",
       "stream": "stdout",
       "text": [
        "[0, 10, 20, 30, 40, 50, 60, 70, 80, 90, 100, 110, 120, 130, 140, 150, 160, 170, 180, 190]\n"
       ]
      },
      {
       "output_type": "stream",
       "stream": "stderr",
       "text": [
        "[Parallel(n_jobs=12)]: Done   1 out of  20 | elapsed:    0.0s remaining:    0.0s\n",
        "[Parallel(n_jobs=12)]: Done   2 out of  20 | elapsed:    0.0s remaining:    0.0s\n",
        "[Parallel(n_jobs=12)]: Done   4 out of  20 | elapsed:    0.0s remaining:    0.0s\n",
        "[Parallel(n_jobs=12)]: Done   6 out of  20 | elapsed:    0.0s remaining:    0.0s\n",
        "[Parallel(n_jobs=12)]: Done   8 out of  20 | elapsed:    0.0s remaining:    0.0s\n",
        "[Parallel(n_jobs=12)]: Done  10 out of  20 | elapsed:    0.0s remaining:    0.0s\n",
        "[Parallel(n_jobs=12)]: Done  12 out of  20 | elapsed:    0.0s remaining:    0.0s\n",
        "[Parallel(n_jobs=12)]: Done  14 out of  20 | elapsed:    0.0s remaining:    0.0s\n",
        "[Parallel(n_jobs=12)]: Done  16 out of  20 | elapsed:    0.0s remaining:    0.0s\n",
        "[Parallel(n_jobs=12)]: Done  18 out of  20 | elapsed:    0.0s remaining:    0.0s\n",
        "[Parallel(n_jobs=12)]: Done  20 out of  20 | elapsed:    0.0s finished\n"
       ]
      }
     ],
     "prompt_number": 3
    },
    {
     "cell_type": "heading",
     "level": 3,
     "metadata": {},
     "source": [
      "IPYTHON PARALLEL"
     ]
    },
    {
     "cell_type": "markdown",
     "metadata": {},
     "source": [
      "In ipython 2.0, rememberto start the clusters in the main interface. If not, it will fail."
     ]
    },
    {
     "cell_type": "code",
     "collapsed": false,
     "input": [
      "from IPython.parallel import Client\n",
      "c = Client()\n",
      "\n",
      "v = c[:]\n",
      "v.push({'one_val': one_val})\n",
      "\n",
      "a = v.map(do_something, range(n_rpt))\n",
      "print(list(a))"
     ],
     "language": "python",
     "metadata": {},
     "outputs": [
      {
       "output_type": "stream",
       "stream": "stdout",
       "text": [
        "[0, 10, 20, 30, 40, 50, 60, 70, 80, 90, 100, 110, 120, 130, 140, 150, 160, 170, 180, 190]\n"
       ]
      }
     ],
     "prompt_number": 4
    },
    {
     "cell_type": "heading",
     "level": 3,
     "metadata": {},
     "source": [
      "SUBMIT JOBS TO LSF"
     ]
    },
    {
     "cell_type": "code",
     "collapsed": false,
     "input": [
      "from lsf import map_lsf\n",
      "\n",
      "from logging import getLogger, INFO\n",
      "lg = getLogger('lsf')\n",
      "lg.setLevel(INFO)\n",
      "\n",
      "output = map_lsf(do_something, range(n_rpt), queue='vshort', variables={'one_val': one_val}, imports={'math': 'sqrt'})\n",
      "print(output)"
     ],
     "language": "python",
     "metadata": {},
     "outputs": [
      {
       "output_type": "stream",
       "stream": "stderr",
       "text": [
        "INFO:lsf:funct_gp902_p26651_b000000_do_something_j000000 has finished\n"
       ]
      },
      {
       "output_type": "stream",
       "stream": "stderr",
       "text": [
        "INFO:lsf:funct_gp902_p26651_b000000_do_something_j000002 has finished\n"
       ]
      },
      {
       "output_type": "stream",
       "stream": "stderr",
       "text": [
        "INFO:lsf:funct_gp902_p26651_b000000_do_something_j000004 has finished\n"
       ]
      },
      {
       "output_type": "stream",
       "stream": "stderr",
       "text": [
        "INFO:lsf:funct_gp902_p26651_b000000_do_something_j000006 has finished\n"
       ]
      },
      {
       "output_type": "stream",
       "stream": "stderr",
       "text": [
        "INFO:lsf:funct_gp902_p26651_b000000_do_something_j000008 has finished\n"
       ]
      },
      {
       "output_type": "stream",
       "stream": "stderr",
       "text": [
        "INFO:lsf:funct_gp902_p26651_b000000_do_something_j000010 has finished\n"
       ]
      },
      {
       "output_type": "stream",
       "stream": "stderr",
       "text": [
        "INFO:lsf:funct_gp902_p26651_b000000_do_something_j000001 has finished\n"
       ]
      },
      {
       "output_type": "stream",
       "stream": "stderr",
       "text": [
        "INFO:lsf:funct_gp902_p26651_b000000_do_something_j000005 has finished\n"
       ]
      },
      {
       "output_type": "stream",
       "stream": "stderr",
       "text": [
        "INFO:lsf:funct_gp902_p26651_b000000_do_something_j000009 has finished\n"
       ]
      },
      {
       "output_type": "stream",
       "stream": "stderr",
       "text": [
        "INFO:lsf:funct_gp902_p26651_b000000_do_something_j000003 has finished\n"
       ]
      },
      {
       "output_type": "stream",
       "stream": "stderr",
       "text": [
        "INFO:lsf:funct_gp902_p26651_b000000_do_something_j000011 has finished\n"
       ]
      },
      {
       "output_type": "stream",
       "stream": "stderr",
       "text": [
        "INFO:lsf:funct_gp902_p26651_b000000_do_something_j000013 has finished\n"
       ]
      },
      {
       "output_type": "stream",
       "stream": "stderr",
       "text": [
        "INFO:lsf:funct_gp902_p26651_b000000_do_something_j000015 has finished\n"
       ]
      },
      {
       "output_type": "stream",
       "stream": "stderr",
       "text": [
        "INFO:lsf:funct_gp902_p26651_b000000_do_something_j000017 has finished\n"
       ]
      },
      {
       "output_type": "stream",
       "stream": "stderr",
       "text": [
        "INFO:lsf:funct_gp902_p26651_b000000_do_something_j000019 has finished\n"
       ]
      },
      {
       "output_type": "stream",
       "stream": "stderr",
       "text": [
        "INFO:lsf:funct_gp902_p26651_b000000_do_something_j000007 has finished\n"
       ]
      },
      {
       "output_type": "stream",
       "stream": "stderr",
       "text": [
        "INFO:lsf:funct_gp902_p26651_b000000_do_something_j000014 has finished\n"
       ]
      },
      {
       "output_type": "stream",
       "stream": "stderr",
       "text": [
        "INFO:lsf:funct_gp902_p26651_b000000_do_something_j000018 has finished\n"
       ]
      },
      {
       "output_type": "stream",
       "stream": "stderr",
       "text": [
        "INFO:lsf:funct_gp902_p26651_b000000_do_something_j000012 has finished\n"
       ]
      },
      {
       "output_type": "stream",
       "stream": "stderr",
       "text": [
        "INFO:lsf:funct_gp902_p26651_b000000_do_something_j000016 has finished\n"
       ]
      },
      {
       "output_type": "stream",
       "stream": "stderr",
       "text": [
        "INFO:lsf:Wall Time: 22.01s, CPU time: 1.21s, speed-up: 0.05X\n"
       ]
      },
      {
       "output_type": "stream",
       "stream": "stdout",
       "text": [
        "[0, 10, 20, 30, 40, 50, 60, 70, 80, 90, 100, 110, 120, 130, 140, 150, 160, 170, 180, 190]\n"
       ]
      }
     ],
     "prompt_number": 5
    },
    {
     "cell_type": "code",
     "collapsed": false,
     "input": [],
     "language": "python",
     "metadata": {},
     "outputs": []
    },
    {
     "cell_type": "code",
     "collapsed": false,
     "input": [],
     "language": "python",
     "metadata": {},
     "outputs": []
    }
   ],
   "metadata": {}
  }
 ]
}